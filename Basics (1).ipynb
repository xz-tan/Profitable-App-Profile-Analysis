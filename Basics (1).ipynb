{
 "cells": [
  {
   "cell_type": "markdown",
   "metadata": {
    "collapsed": true
   },
   "source": [
    "#        App Profile Recommendation\n",
    "\n",
    "## Introduction of project\n",
    "---\n",
    "In this project, we are working as data analysts for a company that builds Andriod and iOS mobile apps. The company only build apps that are free to download and install, thus the main source of revenue is the in-app ads. This also means that the revenue for any given app is mostly influenced by the number of users who use the apps.\n",
    "\n",
    "## Goal of the project\n",
    "---\n",
    "The goal of this project is to analyze data to help the developers understand what type of apps are likely to attract more users, and hence they can focus on developing these certain type of apps to maximise revenue for the company.\n",
    "\n",
    "Unfortunately, as of September 2018, there were approximately 2 million apps on Google Play and App Store respectively and collecting data for over 4 million apps require significant amount of time and money, so we will try to analyze a sample of the data instead. Luckily, there are two existing data sets online that are suitable for our goals."
   ]
  },
  {
   "cell_type": "markdown",
   "metadata": {},
   "source": [
    "## Opening and exploring the data\n",
    "---\n",
    "We will first open the csv files we obtained from Kaggle. The respective datasets can be obtained [here](https://www.kaggle.com/lava18/google-play-store-apps) and [here](https://www.kaggle.com/ramamet4/app-store-apple-data-set-10k-apps). We will then store both files as a nested lists for easier data extraction later on. In order to make the data analysis easier, we have chosen to store the data without its headers aka column names under the variable named `ios_data` and `android_data`."
   ]
  },
  {
   "cell_type": "code",
   "execution_count": 33,
   "metadata": {},
   "outputs": [],
   "source": [
    "open_file1 = open('AppleStore.csv', encoding=\"utf8\")\n",
    "open_file2 = open('googleplaystore.csv', encoding=\"utf8\")\n",
    "from csv import reader\n",
    "read_file1 = reader(open_file1)\n",
    "read_file2 = reader(open_file2)\n",
    "ios = list(read_file1) \n",
    "ios_data = ios[1:] # excluding header\n",
    "android = list(read_file2)\n",
    "android_data = android[1:] # excluding header"
   ]
  },
  {
   "cell_type": "markdown",
   "metadata": {},
   "source": [
    "To explore the datasets, we will first write a function named `explore_data`so that we can repeatedly explore rows in a more readable manner. The function also allow us to find out the number of rows and columns in each dataset."
   ]
  },
  {
   "cell_type": "code",
   "execution_count": 4,
   "metadata": {},
   "outputs": [],
   "source": [
    "def explore_data(dataset, start, end, rows_and_columns=False):\n",
    "    dataset_slice = dataset[start:end]\n",
    "    for row in dataset_slice:\n",
    "        print(row)\n",
    "        print('\\n') # adds a new empty line after each row\n",
    "        \n",
    "    if rows_and_columns:\n",
    "        print('Number of rows:', len(dataset))\n",
    "        print('Number of columns:', len(dataset[0]))\n",
    "\n",
    "\n",
    "            \n"
   ]
  },
  {
   "cell_type": "markdown",
   "metadata": {},
   "source": [
    "Below, we have printed the column names of the AppStore dataset as well as the first 3 rows in the data set. We also managed to find out that there are 7197 apps in this AppStore dataset. Certain data such as prime genre, price, rating count and user rating are particularly important for our analysis later on. For a better description of the column names, you can access the documentation [here](https://www.kaggle.com/ramamet4/app-store-apple-data-set-10k-apps). "
   ]
  },
  {
   "cell_type": "code",
   "execution_count": 5,
   "metadata": {},
   "outputs": [
    {
     "name": "stdout",
     "output_type": "stream",
     "text": [
      "Column names (ios) = ['id', 'track_name', 'size_bytes', 'currency', 'price', 'rating_count_tot', 'rating_count_ver', 'user_rating', 'user_rating_ver', 'ver', 'cont_rating', 'prime_genre', 'sup_devices.num', 'ipadSc_urls.num', 'lang.num', 'vpp_lic']\n",
      "\n",
      "\n",
      "['284882215', 'Facebook', '389879808', 'USD', '0.0', '2974676', '212', '3.5', '3.5', '95.0', '4+', 'Social Networking', '37', '1', '29', '1']\n",
      "\n",
      "\n",
      "['389801252', 'Instagram', '113954816', 'USD', '0.0', '2161558', '1289', '4.5', '4.0', '10.23', '12+', 'Photo & Video', '37', '0', '29', '1']\n",
      "\n",
      "\n",
      "['529479190', 'Clash of Clans', '116476928', 'USD', '0.0', '2130805', '579', '4.5', '4.5', '9.24.12', '9+', 'Games', '38', '5', '18', '1']\n",
      "\n",
      "\n",
      "Number of rows: 7197\n",
      "Number of columns: 16\n"
     ]
    }
   ],
   "source": [
    "header_ios = ios[0]\n",
    "print('Column names (ios) = '+ str(header_ios)) \n",
    "print('\\n')\n",
    "explore_data(ios_data, 0, 3, True)"
   ]
  },
  {
   "cell_type": "markdown",
   "metadata": {},
   "source": [
    "Similarly, there are 10841 apps in the Google Play data set. Certain data such as rating, category, installs and genres seemed really useful for our analysis later on."
   ]
  },
  {
   "cell_type": "code",
   "execution_count": 6,
   "metadata": {},
   "outputs": [
    {
     "name": "stdout",
     "output_type": "stream",
     "text": [
      "Column names (android) = ['App', 'Category', 'Rating', 'Reviews', 'Size', 'Installs', 'Type', 'Price', 'Content Rating', 'Genres', 'Last Updated', 'Current Ver', 'Android Ver']\n",
      "\n",
      "\n",
      "['Photo Editor & Candy Camera & Grid & ScrapBook', 'ART_AND_DESIGN', '4.1', '159', '19M', '10,000+', 'Free', '0', 'Everyone', 'Art & Design', 'January 7, 2018', '1.0.0', '4.0.3 and up']\n",
      "\n",
      "\n",
      "['Coloring book moana', 'ART_AND_DESIGN', '3.9', '967', '14M', '500,000+', 'Free', '0', 'Everyone', 'Art & Design;Pretend Play', 'January 15, 2018', '2.0.0', '4.0.3 and up']\n",
      "\n",
      "\n",
      "['U Launcher Lite – FREE Live Cool Themes, Hide Apps', 'ART_AND_DESIGN', '4.7', '87510', '8.7M', '5,000,000+', 'Free', '0', 'Everyone', 'Art & Design', 'August 1, 2018', '1.2.4', '4.0.3 and up']\n",
      "\n",
      "\n",
      "Number of rows: 10841\n",
      "Number of columns: 13\n"
     ]
    }
   ],
   "source": [
    "header_android = android[0]\n",
    "print('Column names (android) = '+ str(header_android))\n",
    "print('\\n')\n",
    "explore_data(android_data, 0, 3, True)"
   ]
  },
  {
   "cell_type": "markdown",
   "metadata": {},
   "source": [
    "## Data Cleaning\n",
    "---\n",
    "Since we are building apps that are free to download and are directed towards an English-speaking audience, we will have to clean our data by removing apps that are non-English or paid. We will also have to remove duplicate data and correct the wrong data based on feedbacks from the general community.\n",
    "\n",
    "### Deleting wrong data\n",
    "\n",
    "There is a discussion thread on [Kaggle](https://www.kaggle.com/lava18/google-play-store-apps/discussion/66015) that involve a wrong data in row 10472 of the Google Play data set. A user reported that the entry for \"Category\" column is missing and a column shift has occured for the app \"Life Made WI-Fi Touchscreen Photo Frame\". To validify the wrong data, we have printed the row 10472."
   ]
  },
  {
   "cell_type": "code",
   "execution_count": 7,
   "metadata": {},
   "outputs": [
    {
     "name": "stdout",
     "output_type": "stream",
     "text": [
      "['Life Made WI-Fi Touchscreen Photo Frame', '1.9', '19', '3.0M', '1,000+', 'Free', '0', 'Everyone', '', 'February 11, 2018', '1.0.19', '4.0 and up']\n",
      "Number of columns with data entered in row 10472 = 12\n",
      "Number of columns in the whole Google Play dataset = 13\n",
      "Number of remaining rows = 10840\n"
     ]
    }
   ],
   "source": [
    "print(android_data [10472])\n",
    "print('Number of columns with data entered in row 10472 = ' + str(len(android_data[10472])))\n",
    "print('Number of columns in the whole Google Play dataset = ' + str(len(android_data[0])))\n",
    "del android_data[10472] # we are deleting that row\n",
    "print('Number of remaining rows = ' + str(len(android_data)))"
   ]
  },
  {
   "cell_type": "markdown",
   "metadata": {},
   "source": [
    "As seen above, there is only data in 12 columns when in fact there should be 13. The missing data seems to be from the \"Cateogry\" column. Since the missing data will compromise our analysis, we will be removing the row.\n",
    "\n",
    "### Duplicated data\n",
    "\n",
    "We have also noticed that the Google Play data set has duplicate entries. As seen below, by defining a function `duplicate_entries`, we can find out that 1181 apps are duplicated in the Google Play dataset.\n",
    "\n"
   ]
  },
  {
   "cell_type": "code",
   "execution_count": 8,
   "metadata": {},
   "outputs": [
    {
     "name": "stdout",
     "output_type": "stream",
     "text": [
      "Number of Google Play apps that are duplicated = 1181\n",
      "\n",
      "\n",
      "Examples of duplicated app : ['Quick PDF Scanner + OCR FREE', 'Box', 'Google My Business', 'ZOOM Cloud Meetings', 'join.me - Simple Meetings', 'Box', 'Zenefits', 'Google Ads', 'Google My Business', 'Slack', 'FreshBooks Classic']\n"
     ]
    }
   ],
   "source": [
    "app_names = []\n",
    "duplicated_apps = []\n",
    "def duplicate_entries(apps_data, index):\n",
    "    for rows in apps_data:\n",
    "        app_name = rows[index]\n",
    "        if app_name in app_names:\n",
    "            duplicated_apps.append(app_name)\n",
    "        else:\n",
    "            app_names.append(app_name)\n",
    "\n",
    "duplicate_entries(android_data, 0) # 0 represent the index of first column\n",
    "print('Number of Google Play apps that are duplicated = ' + str(len(duplicated_apps)))\n",
    "print('\\n')\n",
    "print('Examples of duplicated app : ' + str(duplicated_apps[:11]))"
   ]
  },
  {
   "cell_type": "markdown",
   "metadata": {},
   "source": [
    "To ensure that the function is working properly, we will be printing a few duplicate rows to confirm. For example, one of the duplicated apps is \"Slack\". Below, we have printed some rows that have the app name \"Slack\"."
   ]
  },
  {
   "cell_type": "code",
   "execution_count": 9,
   "metadata": {},
   "outputs": [
    {
     "name": "stdout",
     "output_type": "stream",
     "text": [
      "['Slack', 'BUSINESS', '4.4', '51507', 'Varies with device', '5,000,000+', 'Free', '0', 'Everyone', 'Business', 'August 2, 2018', 'Varies with device', 'Varies with device']\n",
      "\n",
      "\n",
      "['Slack', 'BUSINESS', '4.4', '51507', 'Varies with device', '5,000,000+', 'Free', '0', 'Everyone', 'Business', 'August 2, 2018', 'Varies with device', 'Varies with device']\n",
      "\n",
      "\n",
      "['Slack', 'BUSINESS', '4.4', '51510', 'Varies with device', '5,000,000+', 'Free', '0', 'Everyone', 'Business', 'August 2, 2018', 'Varies with device', 'Varies with device']\n",
      "\n",
      "\n"
     ]
    }
   ],
   "source": [
    "def print_duplicated_app(apps_data, app_name, index):\n",
    "    for rows in apps_data:\n",
    "        if rows[index] == app_name:\n",
    "            print(rows)\n",
    "            print('\\n')\n",
    "\n",
    "print_duplicated_app(android_data, 'Slack', 0)"
   ]
  },
  {
   "cell_type": "markdown",
   "metadata": {},
   "source": [
    "All three rows are quite identical, except for a slight variation in the 4th column, the \"Reviews\" column. The higher the number of reviews, the more recent the data is. Hence, it will serve as a criterion for us to remove the duplicate rows and only conserve the row that has the highest reviews. To do so, we need to first create a `dictionary` to store the app name and its corresponding maximum number of reviews."
   ]
  },
  {
   "cell_type": "code",
   "execution_count": 10,
   "metadata": {},
   "outputs": [
    {
     "name": "stdout",
     "output_type": "stream",
     "text": [
      "Number of entries after clearing duplicates and keeping highest reviews = 9659\n",
      "Expected number of entries = 9659\n"
     ]
    }
   ],
   "source": [
    "reviews_max = {} # creating a dictionary\n",
    "for rows in android_data:\n",
    "    name = rows[0]\n",
    "    n_reviews = float(rows[3])\n",
    "    if name not in reviews_max:\n",
    "        reviews_max[name] = n_reviews\n",
    "    elif n_reviews > reviews_max[name]:\n",
    "        reviews_max[name] = n_reviews # this ensure that the dictionary is updated to only store the maximum number of reviews per app name\n",
    "print('Number of entries after clearing duplicates and keeping highest reviews = ' + str(len(reviews_max)))\n",
    "print('Expected number of entries = ' + str(len(app_names))) # from the codes above, we know that the variable 'app_name' consist of a list of the names of apps without duplicates"
   ]
  },
  {
   "cell_type": "markdown",
   "metadata": {},
   "source": [
    "The codes we have written above let us keep track of the maximum number of reviews for each app as well as the number of entries we should have after clearing the duplicate apps. However, the removal of the duplicate apps will only take place in the code below. We have created two empty list: `android_clean` for acting as a nested list to store the 9659 rows of data while `already_added` list is to prevent us from storing duplicated apps (that have the same highest number of reviews) in the `android_clean` list. After cleaning of data, there is indeed 9659 rows of non-duplicated apps in the `android_clean` dataset."
   ]
  },
  {
   "cell_type": "code",
   "execution_count": 11,
   "metadata": {},
   "outputs": [
    {
     "name": "stdout",
     "output_type": "stream",
     "text": [
      "Number of entries in the cleaned Google Play dataset = 9659\n"
     ]
    }
   ],
   "source": [
    "android_clean = []\n",
    "already_added = []\n",
    "for rows in android_data:\n",
    "    name = rows[0]\n",
    "    n_reviews = float(rows[3])\n",
    "    if n_reviews == reviews_max[name] and name not in already_added:\n",
    "        android_clean.append(rows)\n",
    "        already_added.append(name)\n",
    "print('Number of entries in the cleaned Google Play dataset = ' + str(len(android_clean)))"
   ]
  },
  {
   "cell_type": "markdown",
   "metadata": {},
   "source": [
    "In comparison, there are only 2 duplicated apps in the App Store, which is the \"Mannequin Challenge\" app and the \"VR Roller Coaster\" app."
   ]
  },
  {
   "cell_type": "code",
   "execution_count": 12,
   "metadata": {},
   "outputs": [
    {
     "name": "stdout",
     "output_type": "stream",
     "text": [
      "Number of App Store apps that are duplicated = 2\n",
      "\n",
      "\n",
      "['Mannequin Challenge', 'VR Roller Coaster']\n"
     ]
    }
   ],
   "source": [
    "app_names = []\n",
    "duplicated_apps = []\n",
    "duplicate_entries(ios_data, 1)\n",
    "print('Number of App Store apps that are duplicated = ' + str(len(duplicated_apps)))\n",
    "print('\\n')\n",
    "print(duplicated_apps)"
   ]
  },
  {
   "cell_type": "code",
   "execution_count": 13,
   "metadata": {},
   "outputs": [
    {
     "name": "stdout",
     "output_type": "stream",
     "text": [
      "['1173990889', 'Mannequin Challenge', '109705216', 'USD', '0.0', '668', '87', '3.0', '3.0', '1.4', '9+', 'Games', '37', '4', '1', '1']\n",
      "\n",
      "\n",
      "['1178454060', 'Mannequin Challenge', '59572224', 'USD', '0.0', '105', '58', '4.0', '4.5', '1.0.1', '4+', 'Games', '38', '5', '1', '1']\n",
      "\n",
      "\n",
      "['952877179', 'VR Roller Coaster', '169523200', 'USD', '0.0', '107', '102', '3.5', '3.5', '2.0.0', '4+', 'Games', '37', '5', '1', '1']\n",
      "\n",
      "\n",
      "['1089824278', 'VR Roller Coaster', '240964608', 'USD', '0.0', '67', '44', '3.5', '4.0', '0.81', '4+', 'Games', '38', '0', '1', '1']\n",
      "\n",
      "\n"
     ]
    }
   ],
   "source": [
    "print_duplicated_app(ios_data, 'Mannequin Challenge', 1)\n",
    "print_duplicated_app(ios_data, 'VR Roller Coaster', 1)\n"
   ]
  },
  {
   "cell_type": "markdown",
   "metadata": {},
   "source": [
    "Since there are only 2 duplicated apps, we can manually delete it instead of going through the tedious process. The total rating count of the first 'Mannequin Challenge' app is 668 as compared to 105 of the second app. Hence, we will delete the second app. Similarly, by comparing the rating count for the 'VR Roller Coaster' app, we will be deleting the second app.Since the id_number for each row is unique, we can use the `list.index` function to identify the index of the duplicated apps and hence delete them manually. After deleting the duplicated apps, the number of rows left in the `ios_clean` dataset is 7195."
   ]
  },
  {
   "cell_type": "code",
   "execution_count": 14,
   "metadata": {},
   "outputs": [
    {
     "name": "stdout",
     "output_type": "stream",
     "text": [
      "Number of iOS apps that are duplicated = 0\n",
      "\n",
      "\n",
      "Number of entries in the cleaned App Store dataset = 7195\n"
     ]
    }
   ],
   "source": [
    "id_number_list = []\n",
    "for rows in ios_data:\n",
    "    id_number = rows[0]\n",
    "    id_number_list.append(id_number)\n",
    "    \n",
    "#print(id_number_list.index('1178454060')) # for identifying the index of the duplicated 'Mannequin Challenge' app\n",
    "del ios_data[4463]\n",
    "#print(id_number_list.index('1089824278')) # for identifying the index of the duplicated 'VR Roller Coaster' app\n",
    "del ios_data[4830]\n",
    "\n",
    "app_names = []\n",
    "duplicated_apps = []\n",
    "duplicate_entries(ios_data, 1)\n",
    "print('Number of iOS apps that are duplicated = ' + str(len(duplicated_apps)))\n",
    "print('\\n')\n",
    "ios_clean = ios_data # renaming it so that it is less confusing later on\n",
    "print('Number of entries in the cleaned App Store dataset = ' + str(len(ios_clean)))\n"
   ]
  },
  {
   "cell_type": "markdown",
   "metadata": {},
   "source": [
    "### Removing non-English apps\n",
    "\n",
    "One way to go about this is to remove apps with name that contain symbol not commonly used in English text. English text usually includes letters from the English alphabet, numbers composed of digits from 0 to 9, punctuation marks and other symbols (+, *, /). \n",
    "\n",
    "Each character we use in a string has a corresponding number associated with it for example the character 'a' is 97 while the character 'A' is 65. The numbers corresponding to the characters we commonly use in an English text are all in the range 0 to 127, according to the ASCII (American Standard Code for Information Interchange) system. \n",
    "\n",
    "With this in mind, we can try building a function that detect whether an app is English or not using the built in `ord` function that will return the corresponding number of every character in the app name."
   ]
  },
  {
   "cell_type": "code",
   "execution_count": 15,
   "metadata": {},
   "outputs": [
    {
     "name": "stdout",
     "output_type": "stream",
     "text": [
      "True\n",
      "False\n",
      "False\n",
      "False\n"
     ]
    }
   ],
   "source": [
    "def language_check(a_string):\n",
    "    for character in a_string:\n",
    "        if ord(character) > 127:\n",
    "            return False\n",
    "    return True\n",
    "\n",
    "# We will test out whether the above function works\n",
    "print(language_check('Instagram'))\n",
    "print(language_check('爱奇艺PPS -《欢乐颂2》电视剧热播'))\n",
    "print(language_check('Docs To Go™ Free Office Suite'))\n",
    "print(language_check('Instachat 😜'))\n",
    "        \n"
   ]
  },
  {
   "cell_type": "markdown",
   "metadata": {},
   "source": [
    "As seen above, the function cannot correctly identify certain English app names like \"Docs To Go™ Free Office Suite\" and \"Instachat 😜\". This is because emojis and characters like '™' fall outside of the ASCII range and have corresponding number over 127. To minimize data loss, we will only remove an app if its name has more than 3 characters with corresponding numbers falling outside the ASCII range. Although this filter is not perfect, but it should still be fairly effective. We have modified the code and it seems to be filtering out exactly the way we want it to."
   ]
  },
  {
   "cell_type": "code",
   "execution_count": 16,
   "metadata": {},
   "outputs": [
    {
     "name": "stdout",
     "output_type": "stream",
     "text": [
      "True\n",
      "True\n",
      "False\n"
     ]
    }
   ],
   "source": [
    "def language_check1 (a_string):\n",
    "    num_of_non_english_char = 0\n",
    "    for character in a_string:\n",
    "        if ord(character) > 127:\n",
    "            num_of_non_english_char += 1\n",
    "        if num_of_non_english_char > 3:\n",
    "            return False\n",
    "    return True\n",
    "\n",
    "# To test out the code,\n",
    "\n",
    "print(language_check1('Docs To Go™ Free Office Suite'))\n",
    "print(language_check1('Instachat 😜'))\n",
    "print(language_check1('爱奇艺PPS -《欢乐颂2》电视剧热播'))"
   ]
  },
  {
   "cell_type": "markdown",
   "metadata": {},
   "source": [
    "By modifying the function to have 3 parameters (`apps_data`, `empty_list` and `index`), we can combine the verification of app names and the extraction of the English apps into one function named `language_check1`. "
   ]
  },
  {
   "cell_type": "code",
   "execution_count": 17,
   "metadata": {},
   "outputs": [
    {
     "name": "stdout",
     "output_type": "stream",
     "text": [
      "Number of rows remaining for Google Play dataset = 9614\n",
      "Number of rows remaining for App Store dataset = 6181\n"
     ]
    }
   ],
   "source": [
    "english_android_data = []\n",
    "english_ios_data = []\n",
    "def language_check1 (apps_data, empty_list, index):\n",
    "    for rows in apps_data:\n",
    "        name = rows[index]\n",
    "        num_of_non_english_char = 0\n",
    "        for character in name:\n",
    "            if ord(character) > 127:\n",
    "                num_of_non_english_char += 1\n",
    "        if num_of_non_english_char <= 3:\n",
    "            empty_list.append(rows)\n",
    "        \n",
    "language_check1(android_clean, english_android_data, 0)\n",
    "language_check1(ios_clean, english_ios_data, 1) # the \"1\" represent the column in which the app name reside in \n",
    "\n",
    "print('Number of rows remaining for Google Play dataset = ' + str(len(english_android_data)))\n",
    "print('Number of rows remaining for App Store dataset = ' + str(len(english_ios_data)))"
   ]
  },
  {
   "cell_type": "markdown",
   "metadata": {},
   "source": [
    "After removing the non-English apps from each dataset, we can see that there are only 9614 English apps left in the Google Play while there are 6183 English apps left in the App Store dataset.\n",
    "\n",
    "### Isolating the free apps\n",
    "\n",
    "This is the last step of our data cleaning process, which is to only extract apps that are free. We are left with 8864 Google Play apps and 3220 App Store apps for analysis."
   ]
  },
  {
   "cell_type": "code",
   "execution_count": 18,
   "metadata": {},
   "outputs": [
    {
     "name": "stdout",
     "output_type": "stream",
     "text": [
      "Number of Google Play apps remaining = 8864\n",
      "Number of App Store apps remaining = 3220\n"
     ]
    }
   ],
   "source": [
    "final_android_dataset = []\n",
    "for rows in english_android_data:\n",
    "    price = rows[7]\n",
    "    if price == '0':\n",
    "        final_android_dataset.append(rows)\n",
    "print('Number of Google Play apps remaining = ' + str(len(final_android_dataset)))\n",
    "\n",
    "final_ios_dataset = []\n",
    "for rows in english_ios_data:\n",
    "    price = rows[4]\n",
    "    if price == '0.0':\n",
    "        final_ios_dataset.append(rows)\n",
    "print('Number of App Store apps remaining = ' + str(len(final_ios_dataset)))"
   ]
  },
  {
   "cell_type": "markdown",
   "metadata": {},
   "source": [
    "## Analysis of apps\n",
    "---\n",
    "In order to minimize the risks and overhead, our validation strategy of an app idea comprised of three steps:\n",
    "\n",
    "1) Build a minimal Android version of the app and add it to Google Play.\n",
    "\n",
    "2) If the app has good responses from users, we will develop it further and improve upon it.\n",
    "\n",
    "3) If the app is profitable after 6 months, we will build an iOS version of the app add it to the App Store.\n",
    "\n",
    "Therefore, we need to find an app profile that are successful on both markets. We will first begin the analysis by finding out what are the most common genres for each market."
   ]
  },
  {
   "cell_type": "markdown",
   "metadata": {},
   "source": [
    "### Most common genres\n",
    "\n",
    "To find out the most common genres of the apps in both stores, there are certain data that are of particularly importance to us. For example, we should pay attention to the `prime_genre` column of the App Store data,as well as the `Category` and `Genre` column of the Google Play data. By building a frequency table function, we can then analyse and determine the percentage of apps that belong to a certain genre. The `freq_table` function can also be used to analyze any column, by taking in 3 parameters (apps data, index of the column, name of the dict storing the frequency table)\n"
   ]
  },
  {
   "cell_type": "code",
   "execution_count": 19,
   "metadata": {},
   "outputs": [],
   "source": [
    "def freq_table(apps_data, index, empty_dict):\n",
    "    for rows in apps_data:\n",
    "        genres = rows[index]\n",
    "        if genres not in empty_dict:\n",
    "            empty_dict[genres] = 1\n",
    "        else:\n",
    "            empty_dict[genres] += 1\n",
    "# To display the frequency table in percentages:\n",
    "    for key in empty_dict:\n",
    "        empty_dict[key] /= len(apps_data)\n",
    "        empty_dict[key] *= 100\n",
    "        \n",
    "    return empty_dict"
   ]
  },
  {
   "cell_type": "markdown",
   "metadata": {},
   "source": [
    "The frequency table stored in a dictionary does not have any order and hence, will be very difficult to analyze. We will need to build a second function to display the entries in the frequency table in a descending order. \n",
    "\n",
    "The `display_table` function must first convert the dictionary to a list of tuples and store them under `table_list` in order for the in built `sorted()` function to work."
   ]
  },
  {
   "cell_type": "code",
   "execution_count": 20,
   "metadata": {},
   "outputs": [],
   "source": [
    "# converting dictionary to tuples for the built in \"sorted()\" function to work\n",
    "\n",
    "def display_table(dict_type):\n",
    "    table_list = []\n",
    "    for key in dict_type:\n",
    "        dict_as_tuple = (dict_type[key], key) # the percentage must be the first value of every tuple for the \"sorted()\" function to work\n",
    "        table_list.append(dict_as_tuple)\n",
    "        \n",
    "# to sort the percentages in descending order, we need to set the \"reverse\" parameter to True        \n",
    "    \n",
    "    sorted_table = sorted(table_list, reverse = True)\n",
    "    for entry in sorted_table:\n",
    "        print(entry[1], ':', entry[0]) # this step is to ensure that the key (genre type) is infront while the percentage is behind\n",
    "        "
   ]
  },
  {
   "cell_type": "markdown",
   "metadata": {},
   "source": [
    "### Analyzing the frequency table\n",
    "\n",
    "We have first generated the frequency table for the `prime_genre` column of the App Store data. "
   ]
  },
  {
   "cell_type": "code",
   "execution_count": 21,
   "metadata": {},
   "outputs": [
    {
     "name": "stdout",
     "output_type": "stream",
     "text": [
      "Games : 58.13664596273293\n",
      "Entertainment : 7.888198757763975\n",
      "Photo & Video : 4.968944099378882\n",
      "Education : 3.6645962732919255\n",
      "Social Networking : 3.291925465838509\n",
      "Shopping : 2.608695652173913\n",
      "Utilities : 2.515527950310559\n",
      "Sports : 2.142857142857143\n",
      "Music : 2.049689440993789\n",
      "Health & Fitness : 2.018633540372671\n",
      "Productivity : 1.7391304347826086\n",
      "Lifestyle : 1.5838509316770186\n",
      "News : 1.3354037267080745\n",
      "Travel : 1.2422360248447204\n",
      "Finance : 1.1180124223602486\n",
      "Weather : 0.8695652173913043\n",
      "Food & Drink : 0.8074534161490683\n",
      "Reference : 0.5590062111801243\n",
      "Business : 0.5279503105590062\n",
      "Book : 0.43478260869565216\n",
      "Navigation : 0.18633540372670807\n",
      "Medical : 0.18633540372670807\n",
      "Catalogs : 0.12422360248447205\n"
     ]
    }
   ],
   "source": [
    "genre_ios = {}\n",
    "freq_table(final_ios_dataset, 11, genre_ios)\n",
    "display_table(genre_ios)"
   ]
  },
  {
   "cell_type": "markdown",
   "metadata": {},
   "source": [
    "The most common genre of App Store apps is **Games**, followed by **Entertainment**. In fact, more than half of the free English apps in the App Store are under the **Games** genre. It can also be seen that most of the apps (around 71%) are designed more for entertainment i.e. genres such as games, photo & video, social networking and music. Few apps are designed for practical purposes i.e. genres such as education, shopping, utilities and productivity. However, a large number of apps of a particular genre goes not equate to having a large number of users, hence we cannot recommend an app profile based on this frequency table alone.\n",
    "\n",
    "Next, we shall analyse the the \"Genres\" and the \"Category\" column of the Google Play dataset."
   ]
  },
  {
   "cell_type": "code",
   "execution_count": 22,
   "metadata": {},
   "outputs": [
    {
     "name": "stdout",
     "output_type": "stream",
     "text": [
      "Tools : 8.449909747292418\n",
      "Entertainment : 6.069494584837545\n",
      "Education : 5.347472924187725\n",
      "Business : 4.591606498194946\n",
      "Productivity : 3.892148014440433\n",
      "Lifestyle : 3.892148014440433\n",
      "Finance : 3.7003610108303246\n",
      "Medical : 3.531137184115524\n",
      "Sports : 3.463447653429603\n",
      "Personalization : 3.3167870036101084\n",
      "Communication : 3.2378158844765346\n",
      "Action : 3.1024368231046933\n",
      "Health & Fitness : 3.0798736462093865\n",
      "Photography : 2.944494584837545\n",
      "News & Magazines : 2.7978339350180503\n",
      "Social : 2.6624548736462095\n",
      "Travel & Local : 2.3240072202166067\n",
      "Shopping : 2.2450361010830324\n",
      "Books & Reference : 2.1435018050541514\n",
      "Simulation : 2.0419675090252705\n",
      "Dating : 1.861462093862816\n",
      "Arcade : 1.8501805054151623\n",
      "Video Players & Editors : 1.7712093862815883\n",
      "Casual : 1.7599277978339352\n",
      "Maps & Navigation : 1.3989169675090252\n",
      "Food & Drink : 1.2409747292418771\n",
      "Puzzle : 1.128158844765343\n",
      "Racing : 0.9927797833935018\n",
      "Role Playing : 0.9363718411552346\n",
      "Libraries & Demo : 0.9363718411552346\n",
      "Auto & Vehicles : 0.9250902527075812\n",
      "Strategy : 0.9138086642599278\n",
      "House & Home : 0.8235559566787004\n",
      "Weather : 0.8009927797833934\n",
      "Events : 0.7107400722021661\n",
      "Adventure : 0.6768953068592057\n",
      "Comics : 0.6092057761732852\n",
      "Beauty : 0.5979241877256317\n",
      "Art & Design : 0.5979241877256317\n",
      "Parenting : 0.4963898916967509\n",
      "Card : 0.45126353790613716\n",
      "Casino : 0.42870036101083037\n",
      "Trivia : 0.41741877256317694\n",
      "Educational;Education : 0.39485559566787\n",
      "Board : 0.3835740072202166\n",
      "Educational : 0.3722924187725632\n",
      "Education;Education : 0.33844765342960287\n",
      "Word : 0.2594765342960289\n",
      "Casual;Pretend Play : 0.236913357400722\n",
      "Music : 0.2030685920577617\n",
      "Racing;Action & Adventure : 0.16922382671480143\n",
      "Puzzle;Brain Games : 0.16922382671480143\n",
      "Entertainment;Music & Video : 0.16922382671480143\n",
      "Casual;Brain Games : 0.13537906137184114\n",
      "Casual;Action & Adventure : 0.13537906137184114\n",
      "Arcade;Action & Adventure : 0.12409747292418773\n",
      "Action;Action & Adventure : 0.10153429602888085\n",
      "Educational;Pretend Play : 0.09025270758122744\n",
      "Simulation;Action & Adventure : 0.078971119133574\n",
      "Parenting;Education : 0.078971119133574\n",
      "Entertainment;Brain Games : 0.078971119133574\n",
      "Board;Brain Games : 0.078971119133574\n",
      "Parenting;Music & Video : 0.06768953068592057\n",
      "Educational;Brain Games : 0.06768953068592057\n",
      "Casual;Creativity : 0.06768953068592057\n",
      "Art & Design;Creativity : 0.06768953068592057\n",
      "Education;Pretend Play : 0.056407942238267145\n",
      "Role Playing;Pretend Play : 0.04512635379061372\n",
      "Education;Creativity : 0.04512635379061372\n",
      "Role Playing;Action & Adventure : 0.033844765342960284\n",
      "Puzzle;Action & Adventure : 0.033844765342960284\n",
      "Entertainment;Creativity : 0.033844765342960284\n",
      "Entertainment;Action & Adventure : 0.033844765342960284\n",
      "Educational;Creativity : 0.033844765342960284\n",
      "Educational;Action & Adventure : 0.033844765342960284\n",
      "Education;Music & Video : 0.033844765342960284\n",
      "Education;Brain Games : 0.033844765342960284\n",
      "Education;Action & Adventure : 0.033844765342960284\n",
      "Adventure;Action & Adventure : 0.033844765342960284\n",
      "Video Players & Editors;Music & Video : 0.02256317689530686\n",
      "Sports;Action & Adventure : 0.02256317689530686\n",
      "Simulation;Pretend Play : 0.02256317689530686\n",
      "Puzzle;Creativity : 0.02256317689530686\n",
      "Music;Music & Video : 0.02256317689530686\n",
      "Entertainment;Pretend Play : 0.02256317689530686\n",
      "Casual;Education : 0.02256317689530686\n",
      "Board;Action & Adventure : 0.02256317689530686\n",
      "Video Players & Editors;Creativity : 0.01128158844765343\n",
      "Trivia;Education : 0.01128158844765343\n",
      "Travel & Local;Action & Adventure : 0.01128158844765343\n",
      "Tools;Education : 0.01128158844765343\n",
      "Strategy;Education : 0.01128158844765343\n",
      "Strategy;Creativity : 0.01128158844765343\n",
      "Strategy;Action & Adventure : 0.01128158844765343\n",
      "Simulation;Education : 0.01128158844765343\n",
      "Role Playing;Brain Games : 0.01128158844765343\n",
      "Racing;Pretend Play : 0.01128158844765343\n",
      "Puzzle;Education : 0.01128158844765343\n",
      "Parenting;Brain Games : 0.01128158844765343\n",
      "Music & Audio;Music & Video : 0.01128158844765343\n",
      "Lifestyle;Pretend Play : 0.01128158844765343\n",
      "Lifestyle;Education : 0.01128158844765343\n",
      "Health & Fitness;Education : 0.01128158844765343\n",
      "Health & Fitness;Action & Adventure : 0.01128158844765343\n",
      "Entertainment;Education : 0.01128158844765343\n",
      "Communication;Creativity : 0.01128158844765343\n",
      "Comics;Creativity : 0.01128158844765343\n",
      "Casual;Music & Video : 0.01128158844765343\n",
      "Card;Action & Adventure : 0.01128158844765343\n",
      "Books & Reference;Education : 0.01128158844765343\n",
      "Art & Design;Pretend Play : 0.01128158844765343\n",
      "Art & Design;Action & Adventure : 0.01128158844765343\n",
      "Arcade;Pretend Play : 0.01128158844765343\n",
      "Adventure;Education : 0.01128158844765343\n"
     ]
    }
   ],
   "source": [
    "# Genres column\n",
    "genre_android = {}\n",
    "freq_table(final_android_dataset, 9, genre_android)\n",
    "display_table(genre_android)"
   ]
  },
  {
   "cell_type": "code",
   "execution_count": 23,
   "metadata": {},
   "outputs": [
    {
     "name": "stdout",
     "output_type": "stream",
     "text": [
      "FAMILY : 18.907942238267147\n",
      "GAME : 9.724729241877256\n",
      "TOOLS : 8.461191335740072\n",
      "BUSINESS : 4.591606498194946\n",
      "LIFESTYLE : 3.9034296028880866\n",
      "PRODUCTIVITY : 3.892148014440433\n",
      "FINANCE : 3.7003610108303246\n",
      "MEDICAL : 3.531137184115524\n",
      "SPORTS : 3.395758122743682\n",
      "PERSONALIZATION : 3.3167870036101084\n",
      "COMMUNICATION : 3.2378158844765346\n",
      "HEALTH_AND_FITNESS : 3.0798736462093865\n",
      "PHOTOGRAPHY : 2.944494584837545\n",
      "NEWS_AND_MAGAZINES : 2.7978339350180503\n",
      "SOCIAL : 2.6624548736462095\n",
      "TRAVEL_AND_LOCAL : 2.33528880866426\n",
      "SHOPPING : 2.2450361010830324\n",
      "BOOKS_AND_REFERENCE : 2.1435018050541514\n",
      "DATING : 1.861462093862816\n",
      "VIDEO_PLAYERS : 1.7937725631768955\n",
      "MAPS_AND_NAVIGATION : 1.3989169675090252\n",
      "FOOD_AND_DRINK : 1.2409747292418771\n",
      "EDUCATION : 1.1620036101083033\n",
      "ENTERTAINMENT : 0.9589350180505415\n",
      "LIBRARIES_AND_DEMO : 0.9363718411552346\n",
      "AUTO_AND_VEHICLES : 0.9250902527075812\n",
      "HOUSE_AND_HOME : 0.8235559566787004\n",
      "WEATHER : 0.8009927797833934\n",
      "EVENTS : 0.7107400722021661\n",
      "PARENTING : 0.6543321299638989\n",
      "ART_AND_DESIGN : 0.6430505415162455\n",
      "COMICS : 0.6204873646209386\n",
      "BEAUTY : 0.5979241877256317\n"
     ]
    }
   ],
   "source": [
    "# Category column\n",
    "category_android = {}\n",
    "freq_table(final_android_dataset, 1, category_android)\n",
    "display_table(category_android)"
   ]
  },
  {
   "cell_type": "markdown",
   "metadata": {},
   "source": [
    "Comparing both the **Genres** and **Category** column of the Android dataset, we noticed that the Genres column is too detailed and has too many sub-categories. Since we are analysing from a broad perspective, perhaps the Category column is more suitable for our project.\n",
    "\n",
    "From the Category column, we can see that the most common genres is \"Family\", followed by \"Games\" and finally \"Tools\". The general idea is that the Google Play has a wider variety of apps and and has an equal share of practical and entertainment apps. However, further research into the \"Family\" apps will show that it mainly comprise of games for children. Thus, nearly 29% of apps in the Google Play can be considered **Games** app. Nevertheless, this is still much lower than the App Store and can demonstrate that the Google Play has a much balanced variety of apps and is not dominated by a single genre of apps. Next, we will be investigating which genre of apps have the most users."
   ]
  },
  {
   "cell_type": "markdown",
   "metadata": {},
   "source": [
    "### Most popular apps by genre on App Store\n",
    "\n",
    "To find out what genres are the most popular (have the most users), we can find the average number of installs for each app genre. For Google Play dataset, this information can be found under the **Installs** column. However, for the App Store dataset, this information is not available. Hence, we can use the total number of user ratings per app as a gauge instead. This information can be found under the **rating_count_tot** column.\n"
   ]
  },
  {
   "cell_type": "code",
   "execution_count": 24,
   "metadata": {},
   "outputs": [
    {
     "name": "stdout",
     "output_type": "stream",
     "text": [
      "Social Networking:71548.34905660378\n",
      "Photo & Video:28441.54375\n",
      "Games:22812.92467948718\n",
      "Music:57326.530303030304\n",
      "Reference:74942.11111111111\n",
      "Health & Fitness:23298.015384615384\n",
      "Weather:52279.892857142855\n",
      "Utilities:18684.456790123455\n",
      "Travel:28243.8\n",
      "Shopping:26919.690476190477\n",
      "News:21248.023255813954\n",
      "Navigation:86090.33333333333\n",
      "Lifestyle:16485.764705882353\n",
      "Entertainment:14029.830708661417\n",
      "Food & Drink:33333.92307692308\n",
      "Sports:23008.898550724636\n",
      "Book:39758.5\n",
      "Finance:31467.944444444445\n",
      "Education:7003.983050847458\n",
      "Productivity:21028.410714285714\n",
      "Business:7491.117647058823\n",
      "Catalogs:4004.0\n",
      "Medical:612.0\n"
     ]
    }
   ],
   "source": [
    "genre_ios = {}\n",
    "freq_table(final_ios_dataset, 11, genre_ios)\n",
    "for genre in genre_ios:\n",
    "    total = 0\n",
    "    len_genre = 0\n",
    "    for rows in final_ios_dataset:\n",
    "        genre_app = rows[11]\n",
    "        if genre_app == genre:\n",
    "            num_user_rating = float(rows[5])\n",
    "            total += num_user_rating\n",
    "            len_genre += 1\n",
    "    avg_rating = total/len_genre\n",
    "    print(genre + ':' + str(avg_rating))"
   ]
  },
  {
   "cell_type": "markdown",
   "metadata": {},
   "source": [
    "As seen above, the genre **Navigation** seems to have the highest average user ratings, followed by **Reference**, **Social Networking**, **Music**, **Weather**, **Book**, **Food & Drink** and **Finance**.\n",
    "\n",
    "We have printed out some genre of apps for further analysis."
   ]
  },
  {
   "cell_type": "code",
   "execution_count": 25,
   "metadata": {},
   "outputs": [],
   "source": [
    "def print_genre(apps_data, genre):\n",
    "    for rows in apps_data:\n",
    "        name = rows[1]\n",
    "        num_of_rating = rows[5]\n",
    "        if rows[11] == genre:\n",
    "            print(name + ':' + num_of_rating)"
   ]
  },
  {
   "cell_type": "code",
   "execution_count": 26,
   "metadata": {},
   "outputs": [
    {
     "name": "stdout",
     "output_type": "stream",
     "text": [
      "Waze - GPS Navigation, Maps & Real-time Traffic:345046\n",
      "Google Maps - Navigation & Transit:154911\n",
      "Geocaching®:12811\n",
      "CoPilot GPS – Car Navigation & Offline Maps:3582\n",
      "ImmobilienScout24: Real Estate Search in Germany:187\n",
      "Railway Route Search:5\n",
      "\n",
      "\n",
      "Bible:985920\n",
      "Dictionary.com Dictionary & Thesaurus:200047\n",
      "Dictionary.com Dictionary & Thesaurus for iPad:54175\n",
      "Google Translate:26786\n",
      "Muslim Pro: Ramadan 2017 Prayer Times, Azan, Quran:18418\n",
      "New Furniture Mods - Pocket Wiki & Game Tools for Minecraft PC Edition:17588\n",
      "Merriam-Webster Dictionary:16849\n",
      "Night Sky:12122\n",
      "City Maps for Minecraft PE - The Best Maps for Minecraft Pocket Edition (MCPE):8535\n",
      "LUCKY BLOCK MOD ™ for Minecraft PC Edition - The Best Pocket Wiki & Mods Installer Tools:4693\n",
      "GUNS MODS for Minecraft PC Edition - Mods Tools:1497\n",
      "Guides for Pokémon GO - Pokemon GO News and Cheats:826\n",
      "WWDC:762\n",
      "Horror Maps for Minecraft PE - Download The Scariest Maps for Minecraft Pocket Edition (MCPE) Free:718\n",
      "VPN Express:14\n",
      "Real Bike Traffic Rider Virtual Reality Glasses:8\n",
      "教えて!goo:0\n",
      "Jishokun-Japanese English Dictionary & Translator:0\n",
      "\n",
      "\n",
      "Facebook:2974676\n",
      "Pinterest:1061624\n",
      "Skype for iPhone:373519\n",
      "Messenger:351466\n",
      "Tumblr:334293\n",
      "WhatsApp Messenger:287589\n",
      "Kik:260965\n",
      "ooVoo – Free Video Call, Text and Voice:177501\n",
      "TextNow - Unlimited Text + Calls:164963\n",
      "Viber Messenger – Text & Call:164249\n",
      "Followers - Social Analytics For Instagram:112778\n",
      "MeetMe - Chat and Meet New People:97072\n",
      "We Heart It - Fashion, wallpapers, quotes, tattoos:90414\n",
      "InsTrack for Instagram - Analytics Plus More:85535\n",
      "Tango - Free Video Call, Voice and Chat:75412\n",
      "LinkedIn:71856\n",
      "Match™ - #1 Dating App.:60659\n",
      "Skype for iPad:60163\n",
      "POF - Best Dating App for Conversations:52642\n",
      "Timehop:49510\n",
      "Find My Family, Friends & iPhone - Life360 Locator:43877\n",
      "Whisper - Share, Express, Meet:39819\n",
      "Hangouts:36404\n",
      "LINE PLAY - Your Avatar World:34677\n",
      "WeChat:34584\n",
      "Badoo - Meet New People, Chat, Socialize.:34428\n",
      "Followers + for Instagram - Follower Analytics:28633\n",
      "GroupMe:28260\n",
      "Marco Polo Video Walkie Talkie:27662\n",
      "Miitomo:23965\n",
      "SimSimi:23530\n",
      "Grindr - Gay and same sex guys chat, meet and date:23201\n",
      "Wishbone - Compare Anything:20649\n",
      "imo video calls and chat:18841\n",
      "After School - Funny Anonymous School News:18482\n",
      "Quick Reposter - Repost, Regram and Reshare Photos:17694\n",
      "Weibo HD:16772\n",
      "Repost for Instagram:15185\n",
      "Live.me – Live Video Chat & Make Friends Nearby:14724\n",
      "Nextdoor:14402\n",
      "Followers Analytics for Instagram - InstaReport:13914\n",
      "YouNow: Live Stream Video Chat:12079\n",
      "FollowMeter for Instagram - Followers Tracking:11976\n",
      "LINE:11437\n",
      "eHarmony™ Dating App - Meet Singles:11124\n",
      "Discord - Chat for Gamers:9152\n",
      "QQ:9109\n",
      "Telegram Messenger:7573\n",
      "Weibo:7265\n",
      "Periscope - Live Video Streaming Around the World:6062\n",
      "Chat for Whatsapp - iPad Version:5060\n",
      "QQ HD:5058\n",
      "Followers Analysis Tool For Instagram App Free:4253\n",
      "live.ly - live video streaming:4145\n",
      "Houseparty - Group Video Chat:3991\n",
      "SOMA Messenger:3232\n",
      "Monkey:3060\n",
      "Down To Lunch:2535\n",
      "Flinch - Video Chat Staring Contest:2134\n",
      "Highrise - Your Avatar Community:2011\n",
      "LOVOO - Dating Chat:1985\n",
      "PlayStation®Messages:1918\n",
      "BOO! - Video chat camera with filters & stickers:1805\n",
      "Qzone:1649\n",
      "Chatous - Chat with new people:1609\n",
      "Kiwi - Q&A:1538\n",
      "GhostCodes - a discovery app for Snapchat:1313\n",
      "Jodel:1193\n",
      "FireChat:1037\n",
      "Google Duo - simple video calling:1033\n",
      "Fiesta by Tango - Chat & Meet New People:885\n",
      "Google Allo — smart messaging:862\n",
      "Peach — share vividly:727\n",
      "Hey! VINA - Where Women Meet New Friends:719\n",
      "Battlefield™ Companion:689\n",
      "All Devices for WhatsApp - Messenger for iPad:682\n",
      "Chat for Pokemon Go - GoChat:500\n",
      "IAmNaughty – Dating App to Meet New People Online:463\n",
      "Qzone HD:458\n",
      "Zenly - Locate your friends in realtime:427\n",
      "League of Legends Friends:420\n",
      "豆瓣:407\n",
      "Candid - Speak Your Mind Freely:398\n",
      "知乎:397\n",
      "Selfeo:366\n",
      "Fake-A-Location Free ™:354\n",
      "Popcorn Buzz - Free Group Calls:281\n",
      "Fam — Group video calling for iMessage:279\n",
      "QQ International:274\n",
      "Ameba:269\n",
      "SoundCloud Pulse: for creators:240\n",
      "Tantan:235\n",
      "Cougar Dating & Life Style App for Mature Women:213\n",
      "Rawr Messenger - Dab your chat:180\n",
      "WhenToPost: Best Time to Post Photos for Instagram:158\n",
      "Inke—Broadcast an amazing life:147\n",
      "Mustknow - anonymous video Q&A:53\n",
      "CTFxCmoji:39\n",
      "Lobi:36\n",
      "Chain: Collaborate On MyVideo Story/Group Video:35\n",
      "botman - Real time video chat:7\n",
      "BestieBox:0\n",
      "MATCH ON LINE chat:0\n",
      "niconico ch:0\n",
      "LINE BLOG:0\n",
      "bit-tube - Live Stream Video Chat:0\n",
      "\n",
      "\n",
      "Pandora - Music & Radio:1126879\n",
      "Spotify Music:878563\n",
      "Shazam - Discover music, artists, videos & lyrics:402925\n",
      "iHeartRadio – Free Music & Radio Stations:293228\n",
      "SoundCloud - Music & Audio:135744\n",
      "Magic Piano by Smule:131695\n",
      "Smule Sing!:119316\n",
      "TuneIn Radio - MLB NBA Audiobooks Podcasts Music:110420\n",
      "Amazon Music:106235\n",
      "SoundHound Song Search & Music Player:82602\n",
      "Sonos Controller:48905\n",
      "Bandsintown Concerts:30845\n",
      "Karaoke - Sing Karaoke, Unlimited Songs!:28606\n",
      "My Mixtapez Music:26286\n",
      "Sing Karaoke Songs Unlimited with StarMaker:26227\n",
      "Ringtones for iPhone & Ringtone Maker:25403\n",
      "Musi - Unlimited Music For YouTube:25193\n",
      "AutoRap by Smule:18202\n",
      "Spinrilla - Mixtapes For Free:15053\n",
      "Napster - Top Music & Radio:14268\n",
      "edjing Mix:DJ turntable to remix and scratch music:13580\n",
      "Free Music - MP3 Streamer & Playlist Manager Pro:13443\n",
      "Free Piano app by Yokee:13016\n",
      "Google Play Music:10118\n",
      "Certified Mixtapes - Hip Hop Albums & Mixtapes:9975\n",
      "TIDAL:7398\n",
      "YouTube Music:7109\n",
      "Nicki Minaj: The Empire:5196\n",
      "Sounds app - Music And Friends:5126\n",
      "SongFlip - Free Music Streamer:5004\n",
      "Simple Radio - Live AM & FM Radio Stations:4787\n",
      "Deezer - Listen to your Favorite Music & Playlists:4677\n",
      "Ringtones for iPhone with Ringtone Maker:4013\n",
      "Bose SoundTouch:3687\n",
      "Amazon Alexa:3018\n",
      "DatPiff:2815\n",
      "Trebel Music - Unlimited Music Downloader:2570\n",
      "Free Music Play - Mp3 Streamer & Player:2496\n",
      "Acapella from PicPlayPost:2487\n",
      "Coach Guitar - Lessons & Easy Tabs For Beginners:2416\n",
      "Musicloud - MP3 and FLAC Music Player for Cloud Platforms.:2211\n",
      "Piano - Play Keyboard Music Games with Magic Tiles:1636\n",
      "Boom: Best Equalizer & Magical Surround Sound:1375\n",
      "Music Freedom - Unlimited Free MP3 Music Streaming:1246\n",
      "AmpMe - A Portable Social Party Music Speaker:1047\n",
      "Medly - Music Maker:933\n",
      "Bose Connect:915\n",
      "Music Memos:909\n",
      "UE BOOM:612\n",
      "LiveMixtapes:555\n",
      "NOISE:355\n",
      "MP3 Music Player & Streamer for Clouds:329\n",
      "Musical Video Maker - Create Music clips lip sync:320\n",
      "Cloud Music Player - Downloader & Playlist Manager:319\n",
      "Remixlive - Remix loops with pads:288\n",
      "QQ音乐HD:224\n",
      "Blocs Wave - Make & Record Music:158\n",
      "PlayGround • Music At Your Fingertips:150\n",
      "Music and Chill:135\n",
      "The Singing Machine Mobile Karaoke App:130\n",
      "radio.de - Der Radioplayer:64\n",
      "Free Music -  Player & Streamer  for Dropbox, OneDrive & Google Drive:46\n",
      "NRJ Radio:38\n",
      "Smart Music: Streaming Videos and Radio:17\n",
      "BOSS Tuner:13\n",
      "PetitLyrics:0\n",
      "\n",
      "\n",
      "Kindle – Read eBooks, Magazines & Textbooks:252076\n",
      "Audible – audio books, original series & podcasts:105274\n",
      "Color Therapy Adult Coloring Book for Adults:84062\n",
      "OverDrive – Library eBooks and Audiobooks:65450\n",
      "HOOKED - Chat Stories:47829\n",
      "BookShout: Read eBooks & Track Your Reading Goals:879\n",
      "Dr. Seuss Treasury — 50 best kids books:451\n",
      "Green Riding Hood:392\n",
      "Weirdwood Manor:197\n",
      "MangaZERO - comic reader:9\n",
      "ikouhoushi:0\n",
      "MangaTiara - love comic reader:0\n",
      "謎解き:0\n",
      "謎解き2016:0\n",
      "\n",
      "\n",
      "Starbucks:303856\n",
      "Domino's Pizza USA:258624\n",
      "OpenTable - Restaurant Reservations:113936\n",
      "Allrecipes Dinner Spinner:109349\n",
      "DoorDash - Food Delivery:25947\n",
      "UberEATS: Uber for Food Delivery:17865\n",
      "Postmates - Food Delivery, Faster:9519\n",
      "Dunkin' Donuts - Get Offers, Coupons & Rewards:9068\n",
      "Chick-fil-A:5665\n",
      "McDonald's:4050\n",
      "Deliveroo: Restaurant Delivery - Order Food Nearby:1702\n",
      "SONIC Drive-In:1645\n",
      "Nowait Guest:1625\n",
      "7-Eleven, Inc.:1356\n",
      "Outback:805\n",
      "Bon Appetit:750\n",
      "Starbucks Keyboard:457\n",
      "Whataburger:197\n",
      "Delish Eatmoji Keyboard:154\n",
      "Lieferheld - Delicious food delivery service:29\n",
      "Lieferando.de:29\n",
      "McDo France:22\n",
      "Chefkoch - Rezepte, Kochen, Backen & Kochbuch:20\n",
      "Youmiam:9\n",
      "Marmiton Twist:2\n",
      "Open Food Facts:1\n"
     ]
    }
   ],
   "source": [
    "print_genre(final_ios_dataset,'Navigation')\n",
    "print('\\n')\n",
    "print_genre(final_ios_dataset, 'Reference')\n",
    "print('\\n')\n",
    "print_genre(final_ios_dataset, 'Social Networking')\n",
    "print('\\n')\n",
    "print_genre(final_ios_dataset, 'Music')\n",
    "print('\\n')\n",
    "print_genre(final_ios_dataset, 'Book')\n",
    "print('\\n')\n",
    "print_genre(final_ios_dataset, 'Food & Drink')"
   ]
  },
  {
   "cell_type": "markdown",
   "metadata": {},
   "source": [
    "### Justifying App Store app profile recommendation\n",
    "\n",
    "1) The average user rating in genre such as Reference, Social Networking, Book and Music are heavily skewed due to the presence of a few well known \"giant\" apps such as 'Bible', 'Dictionary.com', 'Facebook', 'Pinterest', 'Kinder', 'Pandora' and 'Spotify'. Other apps in these genres often have far lesser (<10000) ratings. \n",
    "\n",
    "For Social Networking and Music genre, although it has quite a few number of apps above 10 000 ratings, the market is too saturated and there are a lot of apps to compete with.\n",
    "\n",
    "2) Genres such as Navigation and Weather will require  data from external parties and it will be rather costly to gather these data. Futhermore, apps like Google Map and Waze are so developed such that it will be extremely difficult to compete with them and most users will stick to using these apps.\n",
    "\n",
    "3) Finance apps often require domain knowledge as well as expensive equipments such as servers, hence it may be costly to invent a free Finance app that profit mainly from ads.\n",
    "\n",
    "4) Food & Drinks apps are dominated by chain restaurants and delivery services and our company has neither of that. However, if we are to focus on one of the apps,'Allrecipes Dinner Spinner', we can see that it has rather high user ratings of 109349. Furthermore, this is a niche market as there are not a lot of apps that provide recipes.\n",
    "\n",
    "Hence, I would suggest that the app profile be focused on Food & Drinks genre, not on the delivery or reservation domain, but rather on the preparation of food and drinks. Ads can be played in order to unlock a recipe or the next step in the recipe, bringing in revenue for the company."
   ]
  },
  {
   "cell_type": "markdown",
   "metadata": {
    "collapsed": true
   },
   "source": [
    "## Most popular apps by genre on Google Play\n",
    "\n",
    "To find out the most popular apps genre on Google Play, we can just utilise the data under the **Installs** column of the dataset. However, when we printed the installs column, this is what we see."
   ]
  },
  {
   "cell_type": "code",
   "execution_count": 27,
   "metadata": {},
   "outputs": [
    {
     "name": "stdout",
     "output_type": "stream",
     "text": [
      "10,000+\n",
      "5,000,000+\n",
      "50,000,000+\n",
      "100,000+\n",
      "50,000+\n"
     ]
    }
   ],
   "source": [
    "# First 5 rows of Installs column\n",
    "for rows in final_android_dataset[:5]:\n",
    "    print(rows[5])"
   ]
  },
  {
   "cell_type": "markdown",
   "metadata": {},
   "source": [
    "As seen above, the **Installs** column store the data with other characters like ',' and '+'. Therefore, we will need to remove these characters before performing computations later on. Furthermore, the data does not seem very precise as 10,000+ could mean 20,000 or 30,000. Since we only want to find out which genre of apps has the most user, we do not need very precise data about it. Therefore, we will treat 10,000+ as 10,000 and 5,000,000+ as 5,000,000. \n",
    "\n",
    "Next, we will be modifying the function we used for the App Store dataset to remove the characters and allow us to compute the average installs per app in each category."
   ]
  },
  {
   "cell_type": "code",
   "execution_count": 28,
   "metadata": {},
   "outputs": [
    {
     "name": "stdout",
     "output_type": "stream",
     "text": [
      "COMMUNICATION:38456119.167247385\n",
      "VIDEO_PLAYERS:24727872.452830188\n",
      "SOCIAL:23253652.127118643\n",
      "PHOTOGRAPHY:17840110.40229885\n",
      "PRODUCTIVITY:16787331.344927534\n",
      "GAME:15588015.603248259\n",
      "TRAVEL_AND_LOCAL:13984077.710144928\n",
      "ENTERTAINMENT:11640705.88235294\n",
      "TOOLS:10801391.298666667\n",
      "NEWS_AND_MAGAZINES:9549178.467741935\n",
      "BOOKS_AND_REFERENCE:8767811.894736841\n",
      "SHOPPING:7036877.311557789\n",
      "PERSONALIZATION:5201482.6122448975\n",
      "WEATHER:5074486.197183099\n",
      "HEALTH_AND_FITNESS:4188821.9853479853\n",
      "MAPS_AND_NAVIGATION:4056941.7741935486\n",
      "FAMILY:3695641.8198090694\n",
      "SPORTS:3638640.1428571427\n",
      "ART_AND_DESIGN:1986335.0877192982\n",
      "FOOD_AND_DRINK:1924897.7363636363\n",
      "EDUCATION:1833495.145631068\n",
      "BUSINESS:1712290.1474201474\n",
      "LIFESTYLE:1437816.2687861272\n",
      "FINANCE:1387692.475609756\n",
      "HOUSE_AND_HOME:1331540.5616438356\n",
      "DATING:854028.8303030303\n",
      "COMICS:817657.2727272727\n",
      "AUTO_AND_VEHICLES:647317.8170731707\n",
      "LIBRARIES_AND_DEMO:638503.734939759\n",
      "PARENTING:542603.6206896552\n",
      "BEAUTY:513151.88679245283\n",
      "EVENTS:253542.22222222222\n",
      "MEDICAL:120550.61980830671\n"
     ]
    }
   ],
   "source": [
    "category_android = {}\n",
    "android_category = []\n",
    "freq_table(final_android_dataset, 1, category_android)\n",
    "for category in category_android:\n",
    "    total = 0\n",
    "    len_category = 0\n",
    "    for rows in final_android_dataset:\n",
    "        category_app = rows[1]\n",
    "        installs = rows[5]\n",
    "        if category_app == category:\n",
    "            installs = installs.replace('+', '')\n",
    "            installs = installs.replace(',', '')\n",
    "            installs = float(installs)\n",
    "            total += installs\n",
    "            len_category += 1\n",
    "    avg_installs = total/len_category\n",
    "    # the step below is to arrange the average installs per category in descending order for easier analysis\n",
    "    android_tuple = (avg_installs, category)\n",
    "    android_category.append(android_tuple)\n",
    "sorted_android = sorted(android_category, reverse = True)\n",
    "for category in sorted_android:\n",
    "    print(category[1] + ':' + str(category[0]))\n",
    "    "
   ]
  },
  {
   "cell_type": "markdown",
   "metadata": {},
   "source": [
    "Once again, categories such as \"Communication\", \"Video_Players\", \"Social\", \"Photography\" and \"Productivity\" may not be as popular as it seems. They are all dominated by giant companies which are hard for us to compete with. To give a sense of these giant companies, I have printed the top 5 popular apps (by installs) for each of this category."
   ]
  },
  {
   "cell_type": "code",
   "execution_count": 29,
   "metadata": {},
   "outputs": [
    {
     "name": "stdout",
     "output_type": "stream",
     "text": [
      "WhatsApp Messenger:1000000000.0\n",
      "Skype - free IM & video calls:1000000000.0\n",
      "Messenger – Text and Video Chat for Free:1000000000.0\n",
      "Hangouts:1000000000.0\n",
      "Google Chrome: Fast & Secure:1000000000.0\n",
      "\n",
      "\n",
      "YouTube:1000000000.0\n",
      "Google Play Movies & TV:1000000000.0\n",
      "MX Player:500000000.0\n",
      "VivaVideo - Video Editor & Photo Movie:100000000.0\n",
      "VideoShow-Video Editor, Video Maker, Beauty Camera:100000000.0\n",
      "\n",
      "\n",
      "Instagram:1000000000.0\n",
      "Google+:1000000000.0\n",
      "Facebook:1000000000.0\n",
      "Snapchat:500000000.0\n",
      "Facebook Lite:500000000.0\n",
      "\n",
      "\n",
      "Google Photos:1000000000.0\n",
      "Z Camera - Photo Editor, Beauty Selfie, Collage:100000000.0\n",
      "YouCam Perfect - Selfie Photo Editor:100000000.0\n",
      "YouCam Makeup - Magic Selfie Makeovers:100000000.0\n",
      "Sweet Selfie - selfie camera, beauty cam, photo edit:100000000.0\n",
      "\n",
      "\n",
      "Google Drive:1000000000.0\n",
      "Microsoft Word:500000000.0\n",
      "Google Calendar:500000000.0\n",
      "Dropbox:500000000.0\n",
      "Cloud Print:500000000.0\n"
     ]
    }
   ],
   "source": [
    "def print_category (category, index):\n",
    "    category_list = []\n",
    "    for rows in final_android_dataset:\n",
    "        name = rows[0]\n",
    "        installs = rows[5]\n",
    "        if rows [1] == category:\n",
    "            installs = installs.replace('+', '')\n",
    "            installs = installs.replace(',', '')\n",
    "            installs = float(installs)\n",
    "            category_tuple = (installs, name)\n",
    "            category_list.append(category_tuple)\n",
    "    sorted_list = sorted(category_list, reverse = True)\n",
    "    for app in sorted_list[:index]:\n",
    "        print(app[1] + \":\" + str(app[0]))\n",
    "print_category(\"COMMUNICATION\", 5)\n",
    "print('\\n')\n",
    "print_category(\"VIDEO_PLAYERS\", 5)\n",
    "print('\\n')\n",
    "print_category(\"SOCIAL\", 5)\n",
    "print('\\n')\n",
    "print_category(\"PHOTOGRAPHY\", 5)\n",
    "print('\\n')\n",
    "print_category(\"PRODUCTIVITY\", 5)"
   ]
  },
  {
   "cell_type": "markdown",
   "metadata": {},
   "source": [
    "The \"Travel\" category comprises of mainly maps and booking sites, which once again require co-operation with external parties in building the app. It is also hard to compete with established apps such as \"TripAdvisor ...\" and \"Google Earth\"."
   ]
  },
  {
   "cell_type": "code",
   "execution_count": 30,
   "metadata": {},
   "outputs": [
    {
     "name": "stdout",
     "output_type": "stream",
     "text": [
      "Maps - Navigate & Explore:1000000000.0\n",
      "Google Street View:1000000000.0\n",
      "TripAdvisor Hotels Flights Restaurants Attractions:100000000.0\n",
      "Google Earth:100000000.0\n",
      "Booking.com Travel Deals:100000000.0\n",
      "trivago: Hotels & Travel:50000000.0\n",
      "VZ Navigator:50000000.0\n",
      "MAPS.ME – Offline Map and Travel Navigation:50000000.0\n",
      "2GIS: directory & navigator:50000000.0\n",
      "easyJet: Travel App:10000000.0\n",
      "Yelp: Food, Shopping, Services Nearby:10000000.0\n",
      "Yatra - Flights, Hotels, Bus, Trains & Cabs:10000000.0\n",
      "XE Currency:10000000.0\n",
      "Where is my Train : Indian Railway & PNR Status:10000000.0\n",
      "Skyscanner:10000000.0\n",
      "PagesJaunes - local search:10000000.0\n",
      "NTES:10000000.0\n",
      "MakeMyTrip-Flight Hotel Bus Cab IRCTC Rail Booking:10000000.0\n",
      "Live Camera Viewer ★ World Webcam & IP Cam Streams:10000000.0\n",
      "KakaoMap - Map / Navigation:10000000.0\n",
      "KAYAK Flights, Hotels & Cars:10000000.0\n",
      "Hotels.com: Book Hotel Rooms & Find Vacation Deals:10000000.0\n",
      "Goibibo - Flight Hotel Bus Car IRCTC Booking App:10000000.0\n",
      "GasBuddy: Find Cheap Gas:10000000.0\n",
      "GPS Status & Toolbox:10000000.0\n"
     ]
    }
   ],
   "source": [
    "print_category(\"TRAVEL_AND_LOCAL\", 25)"
   ]
  },
  {
   "cell_type": "markdown",
   "metadata": {},
   "source": [
    "During our first analysis of the percentage of apps by genre, we can see that the **Game** apps only account for about 10% of the apps in Google Play as compared to 58% in App Store. Hence, the game market is not as saturated in the Google Play store. Furthermore, I have printed the top 100 apps under the **Game** category, and it can be seen that a wide variety of game apps have large number of installs. This may be due to Google Play having access to a wider market and I believe that making a free game app in the Google Play may be the best method to gain large amount of installs and hence, large amount of revenue from the ads in the games."
   ]
  },
  {
   "cell_type": "code",
   "execution_count": 31,
   "metadata": {},
   "outputs": [
    {
     "name": "stdout",
     "output_type": "stream",
     "text": [
      "Subway Surfers:1000000000.0\n",
      "Temple Run 2:500000000.0\n",
      "Pou:500000000.0\n",
      "My Talking Tom:500000000.0\n",
      "Candy Crush Saga:500000000.0\n",
      "slither.io:100000000.0\n",
      "Zombie Tsunami:100000000.0\n",
      "Yes day:100000000.0\n",
      "Vector:100000000.0\n",
      "Trivia Crack:100000000.0\n",
      "Traffic Racer:100000000.0\n",
      "Temple Run:100000000.0\n",
      "Talking Tom Gold Run:100000000.0\n",
      "Super Mario Run:100000000.0\n",
      "Sonic Dash:100000000.0\n",
      "Sniper 3D Gun Shooter: Free Shooting Games - FPS:100000000.0\n",
      "Smash Hit:100000000.0\n",
      "Skater Boy:100000000.0\n",
      "Shadow Fight 2:100000000.0\n",
      "Score! Hero:100000000.0\n",
      "Roll the Ball® - slide puzzle:100000000.0\n",
      "Pokémon GO:100000000.0\n",
      "Plants vs. Zombies FREE:100000000.0\n",
      "Piano Tiles 2™:100000000.0\n",
      "PAC-MAN:100000000.0\n",
      "My Talking Angela:100000000.0\n",
      "Modern Combat 5: eSports FPS:100000000.0\n",
      "Mobile Legends: Bang Bang:100000000.0\n",
      "Lep's World 2 🍀🍀:100000000.0\n",
      "Jetpack Joyride:100000000.0\n",
      "Hungry Shark Evolution:100000000.0\n",
      "Hill Climb Racing 2:100000000.0\n",
      "Hill Climb Racing:100000000.0\n",
      "Helix Jump:100000000.0\n",
      "Glow Hockey:100000000.0\n",
      "Geometry Dash Lite:100000000.0\n",
      "Garena Free Fire:100000000.0\n",
      "Fruit Ninja®:100000000.0\n",
      "Flow Free:100000000.0\n",
      "Extreme Car Driving Simulator:100000000.0\n",
      "Dream League Soccer 2018:100000000.0\n",
      "Dr. Driving:100000000.0\n",
      "Cut the Rope FULL FREE:100000000.0\n",
      "Crossy Road:100000000.0\n",
      "Cooking Fever:100000000.0\n",
      "Clash of Clans:100000000.0\n",
      "Clash Royale:100000000.0\n",
      "Candy Crush Soda Saga:100000000.0\n",
      "Bus Rush: Subway Edition:100000000.0\n",
      "Bike Race Free - Top Motorcycle Racing Games:100000000.0\n",
      "Banana Kong:100000000.0\n",
      "Asphalt 8: Airborne:100000000.0\n",
      "Ant Smasher by Best Cool & Fun Games:100000000.0\n",
      "Angry Birds Star Wars:100000000.0\n",
      "Angry Birds Rio:100000000.0\n",
      "Angry Birds Classic:100000000.0\n",
      "Angry Birds 2:100000000.0\n",
      "Agar.io:100000000.0\n",
      "8 Ball Pool:100000000.0\n",
      "► MultiCraft ― Free Miner! 👍:50000000.0\n",
      "Zynga Poker – Texas Holdem:50000000.0\n",
      "Words With Friends Classic:50000000.0\n",
      "Word Search:50000000.0\n",
      "War Robots:50000000.0\n",
      "UNO ™ & Friends:50000000.0\n",
      "Toy Truck Rally 3D:50000000.0\n",
      "Toy Blast:50000000.0\n",
      "Swamp Attack:50000000.0\n",
      "Summoners War:50000000.0\n",
      "Snake VS Block:50000000.0\n",
      "Shoot Hunter-Gun Killer:50000000.0\n",
      "Rolling Sky:50000000.0\n",
      "Red Ball 4:50000000.0\n",
      "Racing in Car 2:50000000.0\n",
      "Racing Moto:50000000.0\n",
      "Pixel Gun 3D: Survival shooter & Battle Royale:50000000.0\n",
      "Piano Free - Keyboard with Magic Tiles Music Games:50000000.0\n",
      "Perfect Piano:50000000.0\n",
      "PUBG MOBILE:50000000.0\n",
      "Need for Speed™ No Limits:50000000.0\n",
      "Magic Tiles 3:50000000.0\n",
      "MARVEL Contest of Champions:50000000.0\n",
      "Love Balls:50000000.0\n",
      "Lords Mobile: Battle of the Empires - Strategy RPG:50000000.0\n",
      "Lep's World 🍀:50000000.0\n",
      "Lep's World 3 🍀🍀🍀:50000000.0\n",
      "Kick the Buddy:50000000.0\n",
      "Hungry Shark World:50000000.0\n",
      "Granny:50000000.0\n",
      "Geometry Dash Meltdown:50000000.0\n",
      "Gardenscapes:50000000.0\n",
      "Gangstar Vegas - mafia game:50000000.0\n",
      "GUNSHIP BATTLE: Helicopter 3D:50000000.0\n",
      "Earn to Die 2:50000000.0\n",
      "Draw Something Classic:50000000.0\n",
      "Dr. Parking 4:50000000.0\n",
      "Doodle Jump:50000000.0\n",
      "DEER HUNTER CLASSIC:50000000.0\n",
      "DEAD TARGET: FPS Zombie Apocalypse Survival Games:50000000.0\n",
      "Chess Free:50000000.0\n"
     ]
    }
   ],
   "source": [
    "print_category(\"GAME\",100)"
   ]
  },
  {
   "cell_type": "markdown",
   "metadata": {},
   "source": [
    "## Conclusion\n",
    "---\n",
    "\n",
    "In conclusion, we have analyzed both the data set from the App Store as well as Google Play. However, the app profile we recommended is not the same. Thus, we would like to propose an app that has game features in it (such as solving a puzzle) so that it would appeal to the Google Play market. At the same time, if the reception is good, we can push it out to App Store but this time our target groups will be those **Food & Drink** app users. We may create apps that allow users to incorporate the game elements into unlocking recipes, thereby appealing to both app profiles that we have recommended."
   ]
  },
  {
   "cell_type": "code",
   "execution_count": null,
   "metadata": {},
   "outputs": [],
   "source": []
  }
 ],
 "metadata": {
  "kernelspec": {
   "display_name": "Python 3",
   "language": "python",
   "name": "python3"
  },
  "language_info": {
   "codemirror_mode": {
    "name": "ipython",
    "version": 3
   },
   "file_extension": ".py",
   "mimetype": "text/x-python",
   "name": "python",
   "nbconvert_exporter": "python",
   "pygments_lexer": "ipython3",
   "version": "3.8.8"
  }
 },
 "nbformat": 4,
 "nbformat_minor": 2
}
